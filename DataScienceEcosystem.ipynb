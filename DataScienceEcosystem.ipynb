{
 "cells": [
  {
   "cell_type": "markdown",
   "id": "9365f0a6-4563-4fb9-bbc3-00b14fb405ed",
   "metadata": {
    "tags": []
   },
   "source": [
    "# Data Science Tools and Ecosystem"
   ]
  },
  {
   "cell_type": "markdown",
   "id": "ccb99831-1174-4ce3-bdf9-30de88139d92",
   "metadata": {
    "tags": []
   },
   "source": [
    "In this notebook, Data Science Tools and Ecosystem are summarized."
   ]
  },
  {
   "cell_type": "markdown",
   "id": "a91cdf1b-13f2-4a8e-b4c2-d1d9bebff6c0",
   "metadata": {},
   "source": [
    "Some of the popular languages that Data Scientists use are:"
   ]
  },
  {
   "cell_type": "markdown",
   "id": "7c91e200-3191-49a4-8dcf-5d74c353fcb9",
   "metadata": {},
   "source": [
    "1. Python\n",
    "1. R\n",
    "1. Scala"
   ]
  },
  {
   "cell_type": "markdown",
   "id": "8852d3ff-b576-495f-b11f-3a3df13ca845",
   "metadata": {},
   "source": [
    "Some of the commonly used libraries used by Data Scientists include:\n",
    "1. pandas\n",
    "1. scikit-learn\n",
    "1. tensorflow\n",
    "1. dplyr"
   ]
  },
  {
   "cell_type": "markdown",
   "id": "b0fb3fd2-3af2-474b-a5e1-5a27b0fb6881",
   "metadata": {
    "tags": []
   },
   "source": [
    "| Data science tools |\n",
    "|:--------:|\n",
    "|  Jupyter notebooks   |\n",
    "|  Anaconda   |\n",
    "|  Visual Studio   | "
   ]
  },
  {
   "cell_type": "markdown",
   "id": "4a1408a3-eeab-4a19-8d0d-9a12a4300688",
   "metadata": {},
   "source": [
    "### Below are a few examples of evaluating arithmetic expressions in Python"
   ]
  },
  {
   "cell_type": "markdown",
   "id": "8eb91f96-5f94-4c57-949f-9c51fd5f5a43",
   "metadata": {},
   "source": [
    "This a simple arithmetic expression to mutiply then add integers"
   ]
  },
  {
   "cell_type": "code",
   "execution_count": 6,
   "id": "3c5d8b5d-496c-4e73-b58b-7375bbde831d",
   "metadata": {
    "tags": []
   },
   "outputs": [
    {
     "data": {
      "text/plain": [
       "17"
      ]
     },
     "execution_count": 6,
     "metadata": {},
     "output_type": "execute_result"
    }
   ],
   "source": [
    "(3*4)+5"
   ]
  },
  {
   "cell_type": "markdown",
   "id": "8a7257ea-52f1-40b3-8008-a78025b7572c",
   "metadata": {},
   "source": [
    "This will convert 200 minutes to hours by diving by 60"
   ]
  },
  {
   "cell_type": "code",
   "execution_count": 7,
   "id": "58a03ce9-4b9a-4be1-910a-2337dbeb033b",
   "metadata": {
    "tags": []
   },
   "outputs": [
    {
     "data": {
      "text/plain": [
       "3.3333333333333335"
      ]
     },
     "execution_count": 7,
     "metadata": {},
     "output_type": "execute_result"
    }
   ],
   "source": [
    "200/60"
   ]
  },
  {
   "cell_type": "markdown",
   "id": "6d2a4667-8624-46b9-97cd-e31b232ebe6b",
   "metadata": {},
   "source": [
    "***Objectives:***"
   ]
  },
  {
   "cell_type": "markdown",
   "id": "fd9801a1-1cfe-493d-8e26-66c41cbf2d8e",
   "metadata": {},
   "source": [
    "* List popular languages for Data Science\n",
    "* List open source environments for data science\n",
    "* List data science libraries\n",
    "* Convert minutes to hours"
   ]
  },
  {
   "cell_type": "markdown",
   "id": "cc39fd90-3986-4d17-9c6b-3619b25877ea",
   "metadata": {},
   "source": [
    "## Author\n",
    "Laura Hernandez"
   ]
  },
  {
   "cell_type": "code",
   "execution_count": null,
   "id": "df6b1a43-8d67-417b-b357-11c4ffbc5e4d",
   "metadata": {},
   "outputs": [],
   "source": []
  }
 ],
 "metadata": {
  "kernelspec": {
   "display_name": "Python",
   "language": "python",
   "name": "conda-env-python-py"
  },
  "language_info": {
   "codemirror_mode": {
    "name": "ipython",
    "version": 3
   },
   "file_extension": ".py",
   "mimetype": "text/x-python",
   "name": "python",
   "nbconvert_exporter": "python",
   "pygments_lexer": "ipython3",
   "version": "3.7.12"
  }
 },
 "nbformat": 4,
 "nbformat_minor": 5
}
